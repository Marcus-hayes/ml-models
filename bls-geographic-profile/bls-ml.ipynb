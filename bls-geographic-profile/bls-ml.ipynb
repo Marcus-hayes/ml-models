{
 "cells": [
  {
   "cell_type": "markdown",
   "id": "79c32d5f",
   "metadata": {},
   "source": [
    "# Geographic Profile of Employment and Unemployment, 2024"
   ]
  },
  {
   "cell_type": "markdown",
   "id": "2fa8bdd9",
   "metadata": {},
   "source": [
    "#### Import dependencies"
   ]
  },
  {
   "cell_type": "code",
   "execution_count": 1,
   "id": "6e8e442e",
   "metadata": {},
   "outputs": [
    {
     "name": "stdout",
     "output_type": "stream",
     "text": [
      "Defaulting to user installation because normal site-packages is not writeable\n",
      "Requirement already satisfied: scikit-learn in c:\\users\\sucram\\appdata\\local\\packages\\pythonsoftwarefoundation.python.3.13_qbz5n2kfra8p0\\localcache\\local-packages\\python313\\site-packages (1.7.2)\n",
      "Requirement already satisfied: numpy>=1.22.0 in c:\\users\\sucram\\appdata\\local\\packages\\pythonsoftwarefoundation.python.3.13_qbz5n2kfra8p0\\localcache\\local-packages\\python313\\site-packages (from scikit-learn) (2.3.4)\n",
      "Requirement already satisfied: scipy>=1.8.0 in c:\\users\\sucram\\appdata\\local\\packages\\pythonsoftwarefoundation.python.3.13_qbz5n2kfra8p0\\localcache\\local-packages\\python313\\site-packages (from scikit-learn) (1.16.2)\n",
      "Requirement already satisfied: joblib>=1.2.0 in c:\\users\\sucram\\appdata\\local\\packages\\pythonsoftwarefoundation.python.3.13_qbz5n2kfra8p0\\localcache\\local-packages\\python313\\site-packages (from scikit-learn) (1.5.2)\n",
      "Requirement already satisfied: threadpoolctl>=3.1.0 in c:\\users\\sucram\\appdata\\local\\packages\\pythonsoftwarefoundation.python.3.13_qbz5n2kfra8p0\\localcache\\local-packages\\python313\\site-packages (from scikit-learn) (3.6.0)\n",
      "Defaulting to user installation because normal site-packages is not writeable\n",
      "Requirement already satisfied: pandas in c:\\users\\sucram\\appdata\\local\\packages\\pythonsoftwarefoundation.python.3.13_qbz5n2kfra8p0\\localcache\\local-packages\\python313\\site-packages (2.3.3)\n",
      "Requirement already satisfied: numpy>=1.26.0 in c:\\users\\sucram\\appdata\\local\\packages\\pythonsoftwarefoundation.python.3.13_qbz5n2kfra8p0\\localcache\\local-packages\\python313\\site-packages (from pandas) (2.3.4)\n",
      "Requirement already satisfied: python-dateutil>=2.8.2 in c:\\users\\sucram\\appdata\\local\\packages\\pythonsoftwarefoundation.python.3.13_qbz5n2kfra8p0\\localcache\\local-packages\\python313\\site-packages (from pandas) (2.9.0.post0)\n",
      "Requirement already satisfied: pytz>=2020.1 in c:\\users\\sucram\\appdata\\local\\packages\\pythonsoftwarefoundation.python.3.13_qbz5n2kfra8p0\\localcache\\local-packages\\python313\\site-packages (from pandas) (2025.2)\n",
      "Requirement already satisfied: tzdata>=2022.7 in c:\\users\\sucram\\appdata\\local\\packages\\pythonsoftwarefoundation.python.3.13_qbz5n2kfra8p0\\localcache\\local-packages\\python313\\site-packages (from pandas) (2025.2)\n",
      "Requirement already satisfied: six>=1.5 in c:\\users\\sucram\\appdata\\local\\packages\\pythonsoftwarefoundation.python.3.13_qbz5n2kfra8p0\\localcache\\local-packages\\python313\\site-packages (from python-dateutil>=2.8.2->pandas) (1.17.0)\n",
      "Defaulting to user installation because normal site-packages is not writeable\n",
      "Requirement already satisfied: tabulate in c:\\users\\sucram\\appdata\\local\\packages\\pythonsoftwarefoundation.python.3.13_qbz5n2kfra8p0\\localcache\\local-packages\\python313\\site-packages (0.9.0)\n"
     ]
    }
   ],
   "source": [
    "import sys\n",
    "!{sys.executable} -m pip install scikit-learn\n",
    "!{sys.executable} -m pip install pandas\n",
    "!{sys.executable} -m pip install tabulate\n",
    "\n",
    "import pandas as pd\n",
    "import tabulate\n",
    "import sklearn"
   ]
  },
  {
   "cell_type": "markdown",
   "id": "543410b5",
   "metadata": {},
   "source": [
    "#### Create 'pretty print' utility function `pprint(df:pd.Dataframe)`"
   ]
  },
  {
   "cell_type": "code",
   "execution_count": 4,
   "id": "a436ec81",
   "metadata": {},
   "outputs": [],
   "source": [
    "def pprint(df: pd.DataFrame) -> None:\n",
    "    print(tabulate(df, tablefmt='psql'))"
   ]
  },
  {
   "cell_type": "markdown",
   "id": "4a167807",
   "metadata": {},
   "source": [
    "#### Read .csv from table, re-format"
   ]
  },
  {
   "cell_type": "code",
   "execution_count": null,
   "id": "ea30cfe4",
   "metadata": {},
   "outputs": [
    {
     "ename": "KeyError",
     "evalue": "\"['Change in private repositories' 'Net exports of goods and services'] not found in axis\"",
     "output_type": "error",
     "traceback": [
      "\u001b[31m---------------------------------------------------------------------------\u001b[39m",
      "\u001b[31mKeyError\u001b[39m                                  Traceback (most recent call last)",
      "\u001b[32m~\\AppData\\Local\\Temp\\ipykernel_6508\\678554415.py\u001b[39m in \u001b[36m?\u001b[39m\u001b[34m()\u001b[39m\n\u001b[32m     22\u001b[39m fmt_data.set_index(\u001b[33m'FiscalQuarter'\u001b[39m, inplace=\u001b[38;5;28;01mTrue\u001b[39;00m)\n\u001b[32m     23\u001b[39m \u001b[38;5;66;03m# Drop columns with incomplete data\u001b[39;00m\n\u001b[32m     24\u001b[39m fmt_data.head()\n\u001b[32m     25\u001b[39m \u001b[38;5;66;03m# print(fmt_data.columns)\u001b[39;00m\n\u001b[32m---> \u001b[39m\u001b[32m26\u001b[39m fmt_data.drop([\u001b[33m\"Change in private repositories\"\u001b[39m, \u001b[33m\"Net exports of goods and services\"\u001b[39m], axis=\u001b[32m1\u001b[39m, inplace=\u001b[38;5;28;01mTrue\u001b[39;00m)\n\u001b[32m     27\u001b[39m \u001b[38;5;66;03m# fmt_data.head()\u001b[39;00m\n",
      "\u001b[32m~\\AppData\\Local\\Packages\\PythonSoftwareFoundation.Python.3.13_qbz5n2kfra8p0\\LocalCache\\local-packages\\Python313\\site-packages\\pandas\\core\\frame.py\u001b[39m in \u001b[36m?\u001b[39m\u001b[34m(self, labels, axis, index, columns, level, inplace, errors)\u001b[39m\n\u001b[32m   5599\u001b[39m                 weight  \u001b[32m250.0\u001b[39m   \u001b[32m150.0\u001b[39m\n\u001b[32m   5600\u001b[39m         falcon  speed   \u001b[32m320.0\u001b[39m   \u001b[32m250.0\u001b[39m\n\u001b[32m   5601\u001b[39m                 weight  \u001b[32m1.0\u001b[39m     \u001b[32m0.8\u001b[39m\n\u001b[32m   5602\u001b[39m         \"\"\"\n\u001b[32m-> \u001b[39m\u001b[32m5603\u001b[39m         return super().drop(\n\u001b[32m   5604\u001b[39m             labels=labels,\n\u001b[32m   5605\u001b[39m             axis=axis,\n\u001b[32m   5606\u001b[39m             index=index,\n",
      "\u001b[32m~\\AppData\\Local\\Packages\\PythonSoftwareFoundation.Python.3.13_qbz5n2kfra8p0\\LocalCache\\local-packages\\Python313\\site-packages\\pandas\\core\\generic.py\u001b[39m in \u001b[36m?\u001b[39m\u001b[34m(self, labels, axis, index, columns, level, inplace, errors)\u001b[39m\n\u001b[32m   4806\u001b[39m         obj = self\n\u001b[32m   4807\u001b[39m \n\u001b[32m   4808\u001b[39m         \u001b[38;5;28;01mfor\u001b[39;00m axis, labels \u001b[38;5;28;01min\u001b[39;00m axes.items():\n\u001b[32m   4809\u001b[39m             \u001b[38;5;28;01mif\u001b[39;00m labels \u001b[38;5;28;01mis\u001b[39;00m \u001b[38;5;28;01mnot\u001b[39;00m \u001b[38;5;28;01mNone\u001b[39;00m:\n\u001b[32m-> \u001b[39m\u001b[32m4810\u001b[39m                 obj = obj._drop_axis(labels, axis, level=level, errors=errors)\n\u001b[32m   4811\u001b[39m \n\u001b[32m   4812\u001b[39m         \u001b[38;5;28;01mif\u001b[39;00m inplace:\n\u001b[32m   4813\u001b[39m             self._update_inplace(obj)\n",
      "\u001b[32m~\\AppData\\Local\\Packages\\PythonSoftwareFoundation.Python.3.13_qbz5n2kfra8p0\\LocalCache\\local-packages\\Python313\\site-packages\\pandas\\core\\generic.py\u001b[39m in \u001b[36m?\u001b[39m\u001b[34m(self, labels, axis, level, errors, only_slice)\u001b[39m\n\u001b[32m   4877\u001b[39m                 mask = ~axis.isin(labels)\n\u001b[32m   4878\u001b[39m                 \u001b[38;5;66;03m# Check if label doesn't exist along axis\u001b[39;00m\n\u001b[32m   4879\u001b[39m                 labels_missing = (axis.get_indexer_for(labels) == -\u001b[32m1\u001b[39m).any()\n\u001b[32m   4880\u001b[39m                 \u001b[38;5;28;01mif\u001b[39;00m errors == \u001b[33m\"raise\"\u001b[39m \u001b[38;5;28;01mand\u001b[39;00m labels_missing:\n\u001b[32m-> \u001b[39m\u001b[32m4881\u001b[39m                     \u001b[38;5;28;01mraise\u001b[39;00m KeyError(f\"{labels} not found in axis\")\n\u001b[32m   4882\u001b[39m \n\u001b[32m   4883\u001b[39m             \u001b[38;5;28;01mif\u001b[39;00m isinstance(mask.dtype, ExtensionDtype):\n\u001b[32m   4884\u001b[39m                 \u001b[38;5;66;03m# GH#45860\u001b[39;00m\n",
      "\u001b[31mKeyError\u001b[39m: \"['Change in private repositories' 'Net exports of goods and services'] not found in axis\""
     ]
    }
   ],
   "source": [
    "import pandas as pd\n",
    "pd.set_option('display.max_columns', None)\n",
    "raw_data = pd.read_csv('gdp2q25-3rd - Table 1.csv', skiprows=1, skipfooter=3, engine='python')\n",
    "# Drop annual summary rows and other empty columns\n",
    "fmt_data = raw_data.drop(['2022', '2023', '2024'], axis=1).drop(raw_data.columns[0:1], axis=1)\n",
    "# Forward-fill year rows to make easier for re-formatting\n",
    "fmt_data.T[0].ffill(inplace=True)\n",
    "# Transpose data so that time-series makes up rows, variables make up columns/features\n",
    "fmt_data = fmt_data.T\n",
    "# Begin re-factoring year/quarter columns to insert PeriodIndex\n",
    "headers = fmt_data.iloc[0]\n",
    "headers[0] = 'Year'\n",
    "headers[1] = 'Quarter'\n",
    "fmt_data = fmt_data[1:]\n",
    "fmt_data.columns = headers\n",
    "fmt_data.dropna(axis=1, inplace=True)\n",
    "fmt_data.Quarter = fmt_data.Quarter.str.replace('Q', '')\n",
    "fmt_data.Quarter = fmt_data.Quarter.astype(int)\n",
    "fmt_data.Year = fmt_data.Year.astype(int)\n",
    "fmt_data['FiscalQuarter'] = pd.PeriodIndex.from_fields(year=fmt_data.Year, quarter=fmt_data.Quarter, freq='Q')\n",
    "fmt_data.drop(['Year', 'Quarter'], axis=1, inplace=True)\n",
    "fmt_data.set_index('FiscalQuarter', inplace=True)\n",
    "# Drop columns with incomplete data\n",
    "fmt_data.head()\n",
    "# print(fmt_data.columns)\n",
    "# fmt_data.drop([\"Change in private repositories\", \"Net exports of goods and services\"], axis=1, inplace=True)\n",
    "# fmt_data.head()\n"
   ]
  }
 ],
 "metadata": {
  "kernelspec": {
   "display_name": "Python 3",
   "language": "python",
   "name": "python3"
  },
  "language_info": {
   "codemirror_mode": {
    "name": "ipython",
    "version": 3
   },
   "file_extension": ".py",
   "mimetype": "text/x-python",
   "name": "python",
   "nbconvert_exporter": "python",
   "pygments_lexer": "ipython3",
   "version": "3.13.9"
  }
 },
 "nbformat": 4,
 "nbformat_minor": 5
}
